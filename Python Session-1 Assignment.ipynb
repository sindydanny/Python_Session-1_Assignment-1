{
 "cells": [
  {
   "cell_type": "markdown",
   "id": "e5bf202d",
   "metadata": {},
   "source": [
    "# Python Basics - Assignment"
   ]
  },
  {
   "cell_type": "markdown",
   "id": "40acac96",
   "metadata": {},
   "source": [
    "#####  1.Simple Message: Store a message in a variable, and then print that message. "
   ]
  },
  {
   "cell_type": "code",
   "execution_count": 1,
   "id": "f3a47eda",
   "metadata": {},
   "outputs": [
    {
     "name": "stdout",
     "output_type": "stream",
     "text": [
      "Good Morining, Everyone\n"
     ]
    }
   ],
   "source": [
    "mess1= \"Good Morining, Everyone\"\n",
    "print(mess1)"
   ]
  },
  {
   "cell_type": "markdown",
   "id": "f6003a2c",
   "metadata": {},
   "source": [
    "#####  2.Store a message in a variable and print that message. Then change the value of your variable to a new message and print the new message. "
   ]
  },
  {
   "cell_type": "code",
   "execution_count": 2,
   "id": "a3298927",
   "metadata": {},
   "outputs": [
    {
     "name": "stdout",
     "output_type": "stream",
     "text": [
      "Good Evening, All\n"
     ]
    }
   ],
   "source": [
    "mess1 = \"Good Evening, All\"\n",
    "print(mess1)"
   ]
  },
  {
   "cell_type": "markdown",
   "id": "ee0de857",
   "metadata": {},
   "source": [
    "#####  3.Store a person’s name in a variable and print a message to that person.Your message should be simple, such as, “Hello Eric, would you like to learn some Python today?” "
   ]
  },
  {
   "cell_type": "code",
   "execution_count": 5,
   "id": "dae329be",
   "metadata": {},
   "outputs": [
    {
     "name": "stdout",
     "output_type": "stream",
     "text": [
      "Hello Eric,would you like to learn some Python today?\n"
     ]
    }
   ],
   "source": [
    "mess2= \"Eric\"\n",
    "print(\"Hello \"+ mess2+ \",would you like to learn some Python today?\")"
   ]
  },
  {
   "cell_type": "markdown",
   "id": "c02a851b",
   "metadata": {},
   "source": [
    "#####  4.Find a quote from a famous person you admire. Print the quote and the name of its author. Your output should look something like the following, including the quotation marks: Albert Einstein once said, “A person who never made a mistake never tried anything new.”"
   ]
  },
  {
   "cell_type": "code",
   "execution_count": 2,
   "id": "65ce01e9",
   "metadata": {},
   "outputs": [
    {
     "name": "stdout",
     "output_type": "stream",
     "text": [
      "Mother Teresa once said,  The person who gives with a smile is the best giver because God loves a cheerful giver.\n"
     ]
    }
   ],
   "source": [
    "quote = \"The person who gives with a smile is the best giver because God loves a cheerful giver.\"\n",
    "print(\"Mother Teresa once said, \",quote)"
   ]
  },
  {
   "cell_type": "markdown",
   "id": "e758b8a6",
   "metadata": {},
   "source": [
    "##### 5.Repeat Exercise 4, but this time store the famous person’s name in a variable called famous_person. Then compose your message and store it in a new variable called message. Print your message"
   ]
  },
  {
   "cell_type": "code",
   "execution_count": 3,
   "id": "1bb24469",
   "metadata": {},
   "outputs": [
    {
     "name": "stdout",
     "output_type": "stream",
     "text": [
      "Mother Teresa  once said , The person who gives with a smile is the best giver because God loves a cheerful giver.\n"
     ]
    }
   ],
   "source": [
    "Fam_per= \"Mother Teresa\"\n",
    "print(Fam_per,\" once said ,\",quote)"
   ]
  },
  {
   "cell_type": "markdown",
   "id": "23f95ffd",
   "metadata": {},
   "source": [
    "##### 6.Write addition, subtraction, multiplication, and division operations that each result in the number 8. Be sure to enclose your operations in print statements to see the results. You should create four lines that look like this: print (5 + 3).     Your output should simply be four lines with the number 8 appearing once on each line"
   ]
  },
  {
   "cell_type": "code",
   "execution_count": 8,
   "id": "c2ef1dc9",
   "metadata": {},
   "outputs": [
    {
     "name": "stdout",
     "output_type": "stream",
     "text": [
      "Addition : 8\n",
      "Subtraction : 8\n",
      "Multiplication : 8\n",
      "Division : 8\n"
     ]
    }
   ],
   "source": [
    "print(\"Addition :\",5+3)\n",
    "print(\"Subtraction :\",9-1)\n",
    "print(\"Multiplication :\",4*2)\n",
    "print(\"Division :\",int(16/2))\n",
    "\n"
   ]
  },
  {
   "cell_type": "markdown",
   "id": "12e6e6dc",
   "metadata": {},
   "source": [
    "##### 7.Store your favourite number in a variable. Then, using that variable, create a message that reveals your favourite number. Print that message."
   ]
  },
  {
   "cell_type": "code",
   "execution_count": 11,
   "id": "933369f3",
   "metadata": {},
   "outputs": [
    {
     "name": "stdout",
     "output_type": "stream",
     "text": [
      "My favorite number is  4\n"
     ]
    }
   ],
   "source": [
    "favorite_number = 4\n",
    "print(\"My favorite number is \",favorite_number)\n"
   ]
  },
  {
   "cell_type": "markdown",
   "id": "b6f57ed5",
   "metadata": {},
   "source": [
    "##### 8.Choose two of the programs you’ve written and add at least one comment to each. If you don’t have anything specific to write because your programs are too simple at this point, just add your name and the current date at the top of each program file. Then write one sentence describing what the program does"
   ]
  },
  {
   "cell_type": "code",
   "execution_count": 13,
   "id": "d91cf0bd",
   "metadata": {},
   "outputs": [
    {
     "name": "stdout",
     "output_type": "stream",
     "text": [
      "Mother Teresa  once said , The person who gives with a smile is the best giver because God loves a cheerful giver\n"
     ]
    }
   ],
   "source": [
    "# Author: Swency\n",
    "# Date: 2023-09-19\n",
    "# Description: This program stores quotes of fav_author\n",
    "\n",
    "# Store the famous person's quote in a variable\n",
    "quote = \"The person who gives with a smile is the best giver because God loves a cheerful giver\"\n",
    "\n",
    "\n",
    "# Store the famous person's name in a variable\n",
    "Fam_per= \"Mother Teresa\"\n",
    "\n",
    "\n",
    "# Create a message with a famous quote\n",
    "print(Fam_per,\" once said ,\",quote)"
   ]
  },
  {
   "cell_type": "markdown",
   "id": "bbf722a5",
   "metadata": {},
   "source": [
    "##### 9. Store the names of a few of your friends in a list called names. Print each person’s name by accessing each element in the list, one at a time."
   ]
  },
  {
   "cell_type": "code",
   "execution_count": 18,
   "id": "31519558",
   "metadata": {},
   "outputs": [
    {
     "name": "stdout",
     "output_type": "stream",
     "text": [
      "Anna\n",
      "Joshua\n",
      "Charlie\n",
      "Daniel\n",
      "Nethanya\n"
     ]
    }
   ],
   "source": [
    "names = [\"Anna\", \"Joshua\", \"Charlie\",\"Daniel\",\"Nethanya\"]\n",
    "for n in  names:\n",
    "        print(n)"
   ]
  },
  {
   "cell_type": "markdown",
   "id": "6f98b07d",
   "metadata": {},
   "source": [
    "##### 10.Start with the list you used in Exercise 9, but instead of just printing each person’s name, print a message to them. The text of each message should be the same, but each message should be personalized with the person’s name"
   ]
  },
  {
   "cell_type": "code",
   "execution_count": 19,
   "id": "57bd7fd3",
   "metadata": {},
   "outputs": [
    {
     "name": "stdout",
     "output_type": "stream",
     "text": [
      "Hello, My name is Anna! I hope you're having a great day.\n",
      "Hello, My name is Joshua! I hope you're having a great day.\n",
      "Hello, My name is Charlie! I hope you're having a great day.\n",
      "Hello, My name is Daniel! I hope you're having a great day.\n",
      "Hello, My name is Nethanya! I hope you're having a great day.\n"
     ]
    }
   ],
   "source": [
    "\n",
    "# Print a personalized message to each friend\n",
    "per_msg = \"Hello, My name is {}! I hope you're having a great day.\"\n",
    "for n in names:\n",
    "    print(per_msg.format(n))\n"
   ]
  },
  {
   "cell_type": "markdown",
   "id": "7da6c43b",
   "metadata": {},
   "source": [
    "##### 11.Think of your favourite mode of transportation, such as a motorcycle or a car, and make a list that stores several examples. Use your list to print a series of statements about these items, such as “I would like to own a Honda motorcycle.”"
   ]
  },
  {
   "cell_type": "code",
   "execution_count": 26,
   "id": "724390ca",
   "metadata": {},
   "outputs": [
    {
     "name": "stdout",
     "output_type": "stream",
     "text": [
      "I would love to take ride back by a  motorcycle \n",
      "I would love to take ride back by a  car \n",
      "I would love to take ride back by a  bicycle \n",
      "I would love to take ride back by a  train \n",
      "I would love to take ride back by a  plane \n"
     ]
    }
   ],
   "source": [
    "# List of favorite modes of transportation\n",
    "transportation_list = [\"motorcycle\", \"car\", \"bicycle\", \"train\", \"plane\"]\n",
    "\n",
    "# Print statements-> \n",
    "for mode in transportation_list:\n",
    "    print(\"I would love to take ride back by a \",mode,\"\")"
   ]
  },
  {
   "cell_type": "code",
   "execution_count": null,
   "id": "d251e5a4",
   "metadata": {},
   "outputs": [],
   "source": []
  }
 ],
 "metadata": {
  "kernelspec": {
   "display_name": "Python 3 (ipykernel)",
   "language": "python",
   "name": "python3"
  },
  "language_info": {
   "codemirror_mode": {
    "name": "ipython",
    "version": 3
   },
   "file_extension": ".py",
   "mimetype": "text/x-python",
   "name": "python",
   "nbconvert_exporter": "python",
   "pygments_lexer": "ipython3",
   "version": "3.11.4"
  }
 },
 "nbformat": 4,
 "nbformat_minor": 5
}
